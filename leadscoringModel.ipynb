{
 "cells": [
  {
   "cell_type": "code",
   "execution_count": 496,
   "metadata": {},
   "outputs": [],
   "source": [
    "import pandas as pd"
   ]
  },
  {
   "attachments": {},
   "cell_type": "markdown",
   "metadata": {},
   "source": [
    "Loading Data"
   ]
  },
  {
   "cell_type": "code",
   "execution_count": 497,
   "metadata": {},
   "outputs": [
    {
     "name": "stdout",
     "output_type": "stream",
     "text": [
      "(46608, 15)\n"
     ]
    },
    {
     "data": {
      "text/html": [
       "<div>\n",
       "<style scoped>\n",
       "    .dataframe tbody tr th:only-of-type {\n",
       "        vertical-align: middle;\n",
       "    }\n",
       "\n",
       "    .dataframe tbody tr th {\n",
       "        vertical-align: top;\n",
       "    }\n",
       "\n",
       "    .dataframe thead th {\n",
       "        text-align: right;\n",
       "    }\n",
       "</style>\n",
       "<table border=\"1\" class=\"dataframe\">\n",
       "  <thead>\n",
       "    <tr style=\"text-align: right;\">\n",
       "      <th></th>\n",
       "      <th>Agent_id</th>\n",
       "      <th>status</th>\n",
       "      <th>lost_reason</th>\n",
       "      <th>budget</th>\n",
       "      <th>lease</th>\n",
       "      <th>movein</th>\n",
       "      <th>source</th>\n",
       "      <th>source_city</th>\n",
       "      <th>source_country</th>\n",
       "      <th>utm_source</th>\n",
       "      <th>utm_medium</th>\n",
       "      <th>des_city</th>\n",
       "      <th>des_country</th>\n",
       "      <th>room_type</th>\n",
       "      <th>lead_id</th>\n",
       "    </tr>\n",
       "  </thead>\n",
       "  <tbody>\n",
       "    <tr>\n",
       "      <th>0</th>\n",
       "      <td>1deba9e96f404694373de9749ddd1ca8aa7bb823145a6f...</td>\n",
       "      <td>LOST</td>\n",
       "      <td>Not responding</td>\n",
       "      <td>NaN</td>\n",
       "      <td>NaN</td>\n",
       "      <td>NaN</td>\n",
       "      <td>9b2d5b4678781e53038e91ea5324530a03f27dc1d0e5f6...</td>\n",
       "      <td>9b2d5b4678781e53038e91ea5324530a03f27dc1d0e5f6...</td>\n",
       "      <td>9b2d5b4678781e53038e91ea5324530a03f27dc1d0e5f6...</td>\n",
       "      <td>3d59f7548e1af2151b64135003ce63c0a484c26b9b8b16...</td>\n",
       "      <td>268ad70eb5bc4737a2ae28162cbca30118cc94520e49ef...</td>\n",
       "      <td>ecc0e7dc084f141b29479058967d0bc07dee25d9690a98...</td>\n",
       "      <td>8d23a6e37e0a6431a8f1b43a91026dcff51170a89a6512...</td>\n",
       "      <td>NaN</td>\n",
       "      <td>cd5dc0d9393f3980d11d4ba6f88f8110c2b7a7f7796307...</td>\n",
       "    </tr>\n",
       "    <tr>\n",
       "      <th>1</th>\n",
       "      <td>299ae77a4ef350ae0dd37d6bba1c002d03444fb1edb236...</td>\n",
       "      <td>LOST</td>\n",
       "      <td>Low budget</td>\n",
       "      <td>NaN</td>\n",
       "      <td>NaN</td>\n",
       "      <td>NaN</td>\n",
       "      <td>9b2d5b4678781e53038e91ea5324530a03f27dc1d0e5f6...</td>\n",
       "      <td>9b2d5b4678781e53038e91ea5324530a03f27dc1d0e5f6...</td>\n",
       "      <td>9b2d5b4678781e53038e91ea5324530a03f27dc1d0e5f6...</td>\n",
       "      <td>3d59f7548e1af2151b64135003ce63c0a484c26b9b8b16...</td>\n",
       "      <td>268ad70eb5bc4737a2ae28162cbca30118cc94520e49ef...</td>\n",
       "      <td>5372372f3bf5896820cb2819300c3e681820d82c6efc54...</td>\n",
       "      <td>8d23a6e37e0a6431a8f1b43a91026dcff51170a89a6512...</td>\n",
       "      <td>NaN</td>\n",
       "      <td>b94693673a5f7178d1b114e4004ad52377d3244dd24a3d...</td>\n",
       "    </tr>\n",
       "    <tr>\n",
       "      <th>2</th>\n",
       "      <td>c213697430c006013012dd2aca82dd9732aa0a1a6bca13...</td>\n",
       "      <td>LOST</td>\n",
       "      <td>Not responding</td>\n",
       "      <td>£121 - £180 Per Week</td>\n",
       "      <td>Full Year Course Stay 40 - 44 weeks</td>\n",
       "      <td>31/08/22</td>\n",
       "      <td>7aae3e886e89fc1187a5c47d6cea1c22998ee610ade1f2...</td>\n",
       "      <td>9b8cc3c63cdf447e463c11544924bf027945cbd29675f7...</td>\n",
       "      <td>e09e10e67812e9d236ad900e5d46b4308fc62f5d69446a...</td>\n",
       "      <td>bbdefa2950f49882f295b1285d4fa9dec45fc4144bfb07...</td>\n",
       "      <td>09076eb7665d1fb9389c7c4517fee0b00e43092eb34821...</td>\n",
       "      <td>11ab03a1a8c367191355c152f39fe28cae5e426fce49ef...</td>\n",
       "      <td>8d23a6e37e0a6431a8f1b43a91026dcff51170a89a6512...</td>\n",
       "      <td>Ensuite</td>\n",
       "      <td>96ea4e2bf04496c044745938c0299c264c3f4ba079e572...</td>\n",
       "    </tr>\n",
       "    <tr>\n",
       "      <th>3</th>\n",
       "      <td>eac9815a500f908736d303e23aa227f0957177b0e6756b...</td>\n",
       "      <td>LOST</td>\n",
       "      <td>Low budget</td>\n",
       "      <td>0-0</td>\n",
       "      <td>0</td>\n",
       "      <td>NaN</td>\n",
       "      <td>ba2d0a29556ac20f86f45e4543c0825428cba33fd7a9ea...</td>\n",
       "      <td>a5f0d2d08eb0592087e3a3a2f9c1ba2c67cc30f2efd2bd...</td>\n",
       "      <td>e09e10e67812e9d236ad900e5d46b4308fc62f5d69446a...</td>\n",
       "      <td>bbdefa2950f49882f295b1285d4fa9dec45fc4144bfb07...</td>\n",
       "      <td>09076eb7665d1fb9389c7c4517fee0b00e43092eb34821...</td>\n",
       "      <td>19372fa44c57a01c37a5a8418779ca3d99b0b59731fb35...</td>\n",
       "      <td>8d23a6e37e0a6431a8f1b43a91026dcff51170a89a6512...</td>\n",
       "      <td>NaN</td>\n",
       "      <td>1d2b34d8add02a182a4129023766ca4585a8ddced0e5b3...</td>\n",
       "    </tr>\n",
       "    <tr>\n",
       "      <th>4</th>\n",
       "      <td>1deba9e96f404694373de9749ddd1ca8aa7bb823145a6f...</td>\n",
       "      <td>LOST</td>\n",
       "      <td>Junk lead</td>\n",
       "      <td>NaN</td>\n",
       "      <td>NaN</td>\n",
       "      <td>NaN</td>\n",
       "      <td>9b2d5b4678781e53038e91ea5324530a03f27dc1d0e5f6...</td>\n",
       "      <td>9b2d5b4678781e53038e91ea5324530a03f27dc1d0e5f6...</td>\n",
       "      <td>9b2d5b4678781e53038e91ea5324530a03f27dc1d0e5f6...</td>\n",
       "      <td>3d59f7548e1af2151b64135003ce63c0a484c26b9b8b16...</td>\n",
       "      <td>268ad70eb5bc4737a2ae28162cbca30118cc94520e49ef...</td>\n",
       "      <td>9b2d5b4678781e53038e91ea5324530a03f27dc1d0e5f6...</td>\n",
       "      <td>9b2d5b4678781e53038e91ea5324530a03f27dc1d0e5f6...</td>\n",
       "      <td>NaN</td>\n",
       "      <td>fc10fffd29cfbe93c55158fb47752a7501c211d253468c...</td>\n",
       "    </tr>\n",
       "  </tbody>\n",
       "</table>\n",
       "</div>"
      ],
      "text/plain": [
       "                                            Agent_id status     lost_reason  \\\n",
       "0  1deba9e96f404694373de9749ddd1ca8aa7bb823145a6f...   LOST  Not responding   \n",
       "1  299ae77a4ef350ae0dd37d6bba1c002d03444fb1edb236...   LOST      Low budget   \n",
       "2  c213697430c006013012dd2aca82dd9732aa0a1a6bca13...   LOST  Not responding   \n",
       "3  eac9815a500f908736d303e23aa227f0957177b0e6756b...   LOST      Low budget   \n",
       "4  1deba9e96f404694373de9749ddd1ca8aa7bb823145a6f...   LOST       Junk lead   \n",
       "\n",
       "                 budget                                lease    movein  \\\n",
       "0                   NaN                                  NaN       NaN   \n",
       "1                   NaN                                  NaN       NaN   \n",
       "2  £121 - £180 Per Week  Full Year Course Stay 40 - 44 weeks  31/08/22   \n",
       "3                   0-0                                    0       NaN   \n",
       "4                   NaN                                  NaN       NaN   \n",
       "\n",
       "                                              source  \\\n",
       "0  9b2d5b4678781e53038e91ea5324530a03f27dc1d0e5f6...   \n",
       "1  9b2d5b4678781e53038e91ea5324530a03f27dc1d0e5f6...   \n",
       "2  7aae3e886e89fc1187a5c47d6cea1c22998ee610ade1f2...   \n",
       "3  ba2d0a29556ac20f86f45e4543c0825428cba33fd7a9ea...   \n",
       "4  9b2d5b4678781e53038e91ea5324530a03f27dc1d0e5f6...   \n",
       "\n",
       "                                         source_city  \\\n",
       "0  9b2d5b4678781e53038e91ea5324530a03f27dc1d0e5f6...   \n",
       "1  9b2d5b4678781e53038e91ea5324530a03f27dc1d0e5f6...   \n",
       "2  9b8cc3c63cdf447e463c11544924bf027945cbd29675f7...   \n",
       "3  a5f0d2d08eb0592087e3a3a2f9c1ba2c67cc30f2efd2bd...   \n",
       "4  9b2d5b4678781e53038e91ea5324530a03f27dc1d0e5f6...   \n",
       "\n",
       "                                      source_country  \\\n",
       "0  9b2d5b4678781e53038e91ea5324530a03f27dc1d0e5f6...   \n",
       "1  9b2d5b4678781e53038e91ea5324530a03f27dc1d0e5f6...   \n",
       "2  e09e10e67812e9d236ad900e5d46b4308fc62f5d69446a...   \n",
       "3  e09e10e67812e9d236ad900e5d46b4308fc62f5d69446a...   \n",
       "4  9b2d5b4678781e53038e91ea5324530a03f27dc1d0e5f6...   \n",
       "\n",
       "                                          utm_source  \\\n",
       "0  3d59f7548e1af2151b64135003ce63c0a484c26b9b8b16...   \n",
       "1  3d59f7548e1af2151b64135003ce63c0a484c26b9b8b16...   \n",
       "2  bbdefa2950f49882f295b1285d4fa9dec45fc4144bfb07...   \n",
       "3  bbdefa2950f49882f295b1285d4fa9dec45fc4144bfb07...   \n",
       "4  3d59f7548e1af2151b64135003ce63c0a484c26b9b8b16...   \n",
       "\n",
       "                                          utm_medium  \\\n",
       "0  268ad70eb5bc4737a2ae28162cbca30118cc94520e49ef...   \n",
       "1  268ad70eb5bc4737a2ae28162cbca30118cc94520e49ef...   \n",
       "2  09076eb7665d1fb9389c7c4517fee0b00e43092eb34821...   \n",
       "3  09076eb7665d1fb9389c7c4517fee0b00e43092eb34821...   \n",
       "4  268ad70eb5bc4737a2ae28162cbca30118cc94520e49ef...   \n",
       "\n",
       "                                            des_city  \\\n",
       "0  ecc0e7dc084f141b29479058967d0bc07dee25d9690a98...   \n",
       "1  5372372f3bf5896820cb2819300c3e681820d82c6efc54...   \n",
       "2  11ab03a1a8c367191355c152f39fe28cae5e426fce49ef...   \n",
       "3  19372fa44c57a01c37a5a8418779ca3d99b0b59731fb35...   \n",
       "4  9b2d5b4678781e53038e91ea5324530a03f27dc1d0e5f6...   \n",
       "\n",
       "                                         des_country room_type  \\\n",
       "0  8d23a6e37e0a6431a8f1b43a91026dcff51170a89a6512...       NaN   \n",
       "1  8d23a6e37e0a6431a8f1b43a91026dcff51170a89a6512...       NaN   \n",
       "2  8d23a6e37e0a6431a8f1b43a91026dcff51170a89a6512...   Ensuite   \n",
       "3  8d23a6e37e0a6431a8f1b43a91026dcff51170a89a6512...       NaN   \n",
       "4  9b2d5b4678781e53038e91ea5324530a03f27dc1d0e5f6...       NaN   \n",
       "\n",
       "                                             lead_id  \n",
       "0  cd5dc0d9393f3980d11d4ba6f88f8110c2b7a7f7796307...  \n",
       "1  b94693673a5f7178d1b114e4004ad52377d3244dd24a3d...  \n",
       "2  96ea4e2bf04496c044745938c0299c264c3f4ba079e572...  \n",
       "3  1d2b34d8add02a182a4129023766ca4585a8ddced0e5b3...  \n",
       "4  fc10fffd29cfbe93c55158fb47752a7501c211d253468c...  "
      ]
     },
     "execution_count": 497,
     "metadata": {},
     "output_type": "execute_result"
    }
   ],
   "source": [
    "df = pd.read_csv('./resources/Data_Science_Internship - Dump.csv')\n",
    "df = df.drop(columns=['Unnamed: 0'])\n",
    "# df = df.set_index('Agent_id')\n",
    "print(df.shape)\n",
    "# print(len(df.lead_id.unique()))\n",
    "df.head()"
   ]
  },
  {
   "attachments": {},
   "cell_type": "markdown",
   "metadata": {},
   "source": [
    "Examining the data"
   ]
  },
  {
   "cell_type": "code",
   "execution_count": 498,
   "metadata": {},
   "outputs": [
    {
     "name": "stdout",
     "output_type": "stream",
     "text": [
      "(46608, 15)\n",
      "120\n",
      "6\n",
      "31\n",
      "1858\n",
      "312\n",
      "478\n",
      "683\n",
      "4336\n",
      "186\n",
      "35\n",
      "64\n",
      "220\n",
      "15\n",
      "6\n",
      "30574\n"
     ]
    }
   ],
   "source": [
    "print(df.shape)\n",
    "# print(len(df.lost_reason.unique()))\n",
    "for col in df.columns:\n",
    "    print(len(df[f'{col}'].unique()))"
   ]
  },
  {
   "cell_type": "code",
   "execution_count": 499,
   "metadata": {},
   "outputs": [
    {
     "data": {
      "text/plain": [
       "Index(['Agent_id', 'status', 'lost_reason', 'budget', 'lease', 'movein',\n",
       "       'source', 'source_city', 'source_country', 'utm_source', 'utm_medium',\n",
       "       'des_city', 'des_country', 'room_type', 'lead_id'],\n",
       "      dtype='object')"
      ]
     },
     "execution_count": 499,
     "metadata": {},
     "output_type": "execute_result"
    }
   ],
   "source": [
    "df.columns"
   ]
  },
  {
   "attachments": {},
   "cell_type": "markdown",
   "metadata": {},
   "source": [
    "Finding the columns with NaN values, so that we can remove it"
   ]
  },
  {
   "cell_type": "code",
   "execution_count": 500,
   "metadata": {},
   "outputs": [
    {
     "name": "stdout",
     "output_type": "stream",
     "text": [
      "['lost_reason', 'budget', 'lease', 'movein', 'room_type']\n"
     ]
    }
   ],
   "source": [
    "NaN_cols = [col for col in df.columns if df[f'{col}'].isnull().any()]\n",
    "print(NaN_cols)"
   ]
  },
  {
   "attachments": {},
   "cell_type": "markdown",
   "metadata": {},
   "source": [
    "Defining features & target"
   ]
  },
  {
   "cell_type": "code",
   "execution_count": 501,
   "metadata": {},
   "outputs": [
    {
     "data": {
      "text/html": [
       "<div>\n",
       "<style scoped>\n",
       "    .dataframe tbody tr th:only-of-type {\n",
       "        vertical-align: middle;\n",
       "    }\n",
       "\n",
       "    .dataframe tbody tr th {\n",
       "        vertical-align: top;\n",
       "    }\n",
       "\n",
       "    .dataframe thead th {\n",
       "        text-align: right;\n",
       "    }\n",
       "</style>\n",
       "<table border=\"1\" class=\"dataframe\">\n",
       "  <thead>\n",
       "    <tr style=\"text-align: right;\">\n",
       "      <th></th>\n",
       "      <th>status</th>\n",
       "    </tr>\n",
       "  </thead>\n",
       "  <tbody>\n",
       "    <tr>\n",
       "      <th>0</th>\n",
       "      <td>LOST</td>\n",
       "    </tr>\n",
       "    <tr>\n",
       "      <th>1</th>\n",
       "      <td>LOST</td>\n",
       "    </tr>\n",
       "    <tr>\n",
       "      <th>2</th>\n",
       "      <td>LOST</td>\n",
       "    </tr>\n",
       "    <tr>\n",
       "      <th>3</th>\n",
       "      <td>LOST</td>\n",
       "    </tr>\n",
       "    <tr>\n",
       "      <th>4</th>\n",
       "      <td>LOST</td>\n",
       "    </tr>\n",
       "  </tbody>\n",
       "</table>\n",
       "</div>"
      ],
      "text/plain": [
       "  status\n",
       "0   LOST\n",
       "1   LOST\n",
       "2   LOST\n",
       "3   LOST\n",
       "4   LOST"
      ]
     },
     "execution_count": 501,
     "metadata": {},
     "output_type": "execute_result"
    }
   ],
   "source": [
    "XX = df.copy()\n",
    "XX = XX.drop(columns=NaN_cols)\n",
    "contacted_index = df.index[df.status=='CONTACTED'].tolist()\n",
    "important_index = df.index[df.status=='IMPORTANT'].tolist()\n",
    "opportunity_index = df.index[df.status=='OPPORTUNITY'].tolist()\n",
    "processing_index = df.index[df.status=='PROCESSING'].tolist()\n",
    "y = pd.DataFrame(XX.pop('status'),columns=['status'])\n",
    "# X = X[X.index != 'CONTACTED']\n",
    "# X = X[X.index != 'IMPORTANT']\n",
    "# X = X[X.index != 'PROCESSING']\n",
    "# print(y.status.unique())\n",
    "# print(y[y.status == 'WON'].head())\n",
    "y.head()"
   ]
  },
  {
   "attachments": {},
   "cell_type": "markdown",
   "metadata": {},
   "source": [
    "Encoding the target"
   ]
  },
  {
   "cell_type": "code",
   "execution_count": 502,
   "metadata": {},
   "outputs": [
    {
     "name": "stdout",
     "output_type": "stream",
     "text": [
      "[0. 1.]\n"
     ]
    },
    {
     "data": {
      "text/html": [
       "<div>\n",
       "<style scoped>\n",
       "    .dataframe tbody tr th:only-of-type {\n",
       "        vertical-align: middle;\n",
       "    }\n",
       "\n",
       "    .dataframe tbody tr th {\n",
       "        vertical-align: top;\n",
       "    }\n",
       "\n",
       "    .dataframe thead th {\n",
       "        text-align: right;\n",
       "    }\n",
       "</style>\n",
       "<table border=\"1\" class=\"dataframe\">\n",
       "  <thead>\n",
       "    <tr style=\"text-align: right;\">\n",
       "      <th></th>\n",
       "      <th>status</th>\n",
       "    </tr>\n",
       "  </thead>\n",
       "  <tbody>\n",
       "    <tr>\n",
       "      <th>0</th>\n",
       "      <td>0.0</td>\n",
       "    </tr>\n",
       "    <tr>\n",
       "      <th>1</th>\n",
       "      <td>0.0</td>\n",
       "    </tr>\n",
       "    <tr>\n",
       "      <th>2</th>\n",
       "      <td>0.0</td>\n",
       "    </tr>\n",
       "    <tr>\n",
       "      <th>3</th>\n",
       "      <td>0.0</td>\n",
       "    </tr>\n",
       "    <tr>\n",
       "      <th>4</th>\n",
       "      <td>0.0</td>\n",
       "    </tr>\n",
       "  </tbody>\n",
       "</table>\n",
       "</div>"
      ],
      "text/plain": [
       "   status\n",
       "0     0.0\n",
       "1     0.0\n",
       "2     0.0\n",
       "3     0.0\n",
       "4     0.0"
      ]
     },
     "execution_count": 502,
     "metadata": {},
     "output_type": "execute_result"
    }
   ],
   "source": [
    "from sklearn.preprocessing import OrdinalEncoder\n",
    "y = y.drop(index=contacted_index)\n",
    "y = y.drop(index=important_index)\n",
    "y = y.drop(index=opportunity_index)\n",
    "y = y.drop(index=processing_index)\n",
    "\n",
    "ordinal_encoder = OrdinalEncoder()\n",
    "y = pd.DataFrame(ordinal_encoder.fit_transform(y), columns=['status'])\n",
    "# y = ordinal_encoder.fit_transform(y)\n",
    "\n",
    "print(y.status.unique())\n",
    "# print(y.loc[98:].head())\n",
    "y.reset_index()\n",
    "y.head()"
   ]
  },
  {
   "attachments": {},
   "cell_type": "markdown",
   "metadata": {},
   "source": [
    "Encoding the features"
   ]
  },
  {
   "cell_type": "code",
   "execution_count": 503,
   "metadata": {},
   "outputs": [
    {
     "data": {
      "text/html": [
       "<div>\n",
       "<style scoped>\n",
       "    .dataframe tbody tr th:only-of-type {\n",
       "        vertical-align: middle;\n",
       "    }\n",
       "\n",
       "    .dataframe tbody tr th {\n",
       "        vertical-align: top;\n",
       "    }\n",
       "\n",
       "    .dataframe thead th {\n",
       "        text-align: right;\n",
       "    }\n",
       "</style>\n",
       "<table border=\"1\" class=\"dataframe\">\n",
       "  <thead>\n",
       "    <tr style=\"text-align: right;\">\n",
       "      <th></th>\n",
       "      <th>Agent_id</th>\n",
       "      <th>source</th>\n",
       "      <th>source_city</th>\n",
       "      <th>source_country</th>\n",
       "      <th>utm_source</th>\n",
       "      <th>utm_medium</th>\n",
       "      <th>des_city</th>\n",
       "      <th>des_country</th>\n",
       "      <th>lead_id</th>\n",
       "    </tr>\n",
       "  </thead>\n",
       "  <tbody>\n",
       "    <tr>\n",
       "      <th>0</th>\n",
       "      <td>12.0</td>\n",
       "      <td>432.0</td>\n",
       "      <td>2626.0</td>\n",
       "      <td>110.0</td>\n",
       "      <td>5.0</td>\n",
       "      <td>10.0</td>\n",
       "      <td>206.0</td>\n",
       "      <td>8.0</td>\n",
       "      <td>24487.0</td>\n",
       "    </tr>\n",
       "    <tr>\n",
       "      <th>1</th>\n",
       "      <td>20.0</td>\n",
       "      <td>432.0</td>\n",
       "      <td>2626.0</td>\n",
       "      <td>110.0</td>\n",
       "      <td>5.0</td>\n",
       "      <td>10.0</td>\n",
       "      <td>74.0</td>\n",
       "      <td>8.0</td>\n",
       "      <td>22098.0</td>\n",
       "    </tr>\n",
       "    <tr>\n",
       "      <th>2</th>\n",
       "      <td>87.0</td>\n",
       "      <td>343.0</td>\n",
       "      <td>2630.0</td>\n",
       "      <td>167.0</td>\n",
       "      <td>26.0</td>\n",
       "      <td>3.0</td>\n",
       "      <td>18.0</td>\n",
       "      <td>8.0</td>\n",
       "      <td>17972.0</td>\n",
       "    </tr>\n",
       "    <tr>\n",
       "      <th>3</th>\n",
       "      <td>110.0</td>\n",
       "      <td>508.0</td>\n",
       "      <td>2830.0</td>\n",
       "      <td>167.0</td>\n",
       "      <td>26.0</td>\n",
       "      <td>3.0</td>\n",
       "      <td>26.0</td>\n",
       "      <td>8.0</td>\n",
       "      <td>3592.0</td>\n",
       "    </tr>\n",
       "    <tr>\n",
       "      <th>4</th>\n",
       "      <td>12.0</td>\n",
       "      <td>432.0</td>\n",
       "      <td>2626.0</td>\n",
       "      <td>110.0</td>\n",
       "      <td>5.0</td>\n",
       "      <td>10.0</td>\n",
       "      <td>137.0</td>\n",
       "      <td>10.0</td>\n",
       "      <td>30099.0</td>\n",
       "    </tr>\n",
       "  </tbody>\n",
       "</table>\n",
       "</div>"
      ],
      "text/plain": [
       "   Agent_id  source  source_city  source_country  utm_source  utm_medium  \\\n",
       "0      12.0   432.0       2626.0           110.0         5.0        10.0   \n",
       "1      20.0   432.0       2626.0           110.0         5.0        10.0   \n",
       "2      87.0   343.0       2630.0           167.0        26.0         3.0   \n",
       "3     110.0   508.0       2830.0           167.0        26.0         3.0   \n",
       "4      12.0   432.0       2626.0           110.0         5.0        10.0   \n",
       "\n",
       "   des_city  des_country  lead_id  \n",
       "0     206.0          8.0  24487.0  \n",
       "1      74.0          8.0  22098.0  \n",
       "2      18.0          8.0  17972.0  \n",
       "3      26.0          8.0   3592.0  \n",
       "4     137.0         10.0  30099.0  "
      ]
     },
     "execution_count": 503,
     "metadata": {},
     "output_type": "execute_result"
    }
   ],
   "source": [
    "XX = pd.DataFrame(ordinal_encoder.fit_transform(XX), columns=XX.columns)\n",
    "X = XX.copy()\n",
    "X = X.drop(index=contacted_index)\n",
    "X = X.drop(index=important_index)\n",
    "X = X.drop(index=opportunity_index)\n",
    "X = X.drop(index=processing_index)\n",
    "X.reset_index()\n",
    "X.head()"
   ]
  },
  {
   "cell_type": "code",
   "execution_count": 504,
   "metadata": {},
   "outputs": [
    {
     "name": "stdout",
     "output_type": "stream",
     "text": [
      "(46317, 9)\n",
      "(46317, 1)\n"
     ]
    }
   ],
   "source": [
    "print(X.shape)\n",
    "print(y.shape)"
   ]
  },
  {
   "cell_type": "code",
   "execution_count": 505,
   "metadata": {},
   "outputs": [
    {
     "data": {
      "image/png": "[encoded data removed]",
      "text/plain": [
       "<Figure size 1000x800 with 2 Axes>"
      ]
     },
     "metadata": {},
     "output_type": "display_data"
    }
   ],
   "source": [
    "import seaborn as sns\n",
    "import matplotlib.pyplot as plt\n",
    "\n",
    "plt.figure(figsize=(10,8))\n",
    "sns.heatmap(X.join(y).corr(method='pearson'), annot=True)\n",
    "plt.show()"
   ]
  },
  {
   "attachments": {},
   "cell_type": "markdown",
   "metadata": {},
   "source": [
    "Bulding the Model"
   ]
  },
  {
   "cell_type": "code",
   "execution_count": 506,
   "metadata": {},
   "outputs": [],
   "source": [
    "def getmatrix(X_train, X_test, y_train, y_test, model):\n",
    "    \n",
    "    preds = model.predict(X_test)\n",
    "    return confusion_matrix(y_test, preds)"
   ]
  },
  {
   "cell_type": "code",
   "execution_count": 507,
   "metadata": {},
   "outputs": [
    {
     "name": "stderr",
     "output_type": "stream",
     "text": [
      "/tmp/ipykernel_137207/2824270293.py:13: DataConversionWarning: A column-vector y was passed when a 1d array was expected. Please change the shape of y to (n_samples,), for example using ravel().\n",
      "  model.fit(X_train, y_train)\n"
     ]
    },
    {
     "name": "stdout",
     "output_type": "stream",
     "text": [
      "[[8615   30]\n",
      " [ 581   38]]\n"
     ]
    },
    {
     "data": {
      "image/png": "[encoded data removed]",
      "text/plain": [
       "<Figure size 640x480 with 2 Axes>"
      ]
     },
     "metadata": {},
     "output_type": "display_data"
    }
   ],
   "source": [
    "from sklearn.model_selection import train_test_split\n",
    "# from sklearn.metrics import mean_absolute_error\n",
    "# from sklearn.metrics import f1_score\n",
    "# from sklearn.metrics import precision_score\n",
    "# from sklearn.metrics import accuracy_score\n",
    "# from sklearn.metrics import recall_score\n",
    "from sklearn.metrics import confusion_matrix\n",
    "from sklearn.metrics import ConfusionMatrixDisplay\n",
    "from sklearn.ensemble import RandomForestClassifier\n",
    "\n",
    "X_train, X_test, y_train, y_test = train_test_split(X, y, test_size=0.2, random_state=1)\n",
    "model = RandomForestClassifier(n_estimators=100, random_state=0)\n",
    "model.fit(X_train, y_train)\n",
    "# print(getMAE(X_train, X_test, y_train, y_test, model))\n",
    "# print(getAccuracy(X_train, X_test, y_train, y_test, model))\n",
    "# print(getPrecision(X_train, X_test, y_train, y_test, model))\n",
    "# print(getRecall(X_train, X_test, y_train, y_test, model))\n",
    "# print(getF1_score(X_train, X_test, y_train, y_test, model))\n",
    "\n",
    "confusion_matrix = getmatrix(X_train, X_test, y_train, y_test, model)\n",
    "cm_display = ConfusionMatrixDisplay(confusion_matrix = confusion_matrix, display_labels=['True','False'])\n",
    "\n",
    "print(confusion_matrix)\n",
    "cm_display.plot()\n",
    "plt.show() \n",
    "\n"
   ]
  },
  {
   "cell_type": "code",
   "execution_count": 508,
   "metadata": {},
   "outputs": [
    {
     "name": "stdout",
     "output_type": "stream",
     "text": [
      "Accuracy : 0.9340457685664939\n",
      "Precison : 0.9965297860034702\n",
      "Recall   : 0.936820356676816\n",
      "F1_score : 0.9657530407488369\n"
     ]
    }
   ],
   "source": [
    "TP = confusion_matrix[0][0]\n",
    "TN = confusion_matrix[1][1]\n",
    "FP = confusion_matrix[0][1]\n",
    "FN = confusion_matrix[1][0]\n",
    "\n",
    "Accuracy = (TP + TN)/(TP + TN + FP + FN)\n",
    "print(f\"Accuracy : {Accuracy}\")\n",
    "Precison = TP/(TP+FP)\n",
    "print(f\"Precison : {Precison}\")\n",
    "Recall = TP/(TP+FN)\n",
    "print(f\"Recall   : {Recall}\")\n",
    "F1_score = (2*Precison*Recall)/(Precison + Recall)\n",
    "print(f\"F1_score : {F1_score}\")"
   ]
  },
  {
   "attachments": {},
   "cell_type": "markdown",
   "metadata": {},
   "source": [
    "A personal test"
   ]
  },
  {
   "cell_type": "code",
   "execution_count": 509,
   "metadata": {},
   "outputs": [],
   "source": [
    "# import numpy as np\n",
    "# # print(model.predict(X[X.index==y[y.status==1].index]))\n",
    "# won_rows = y[y.status==1].index\n",
    "# print(won_rows.shape)\n",
    "# prediction = model.predict(X.loc[won_rows,:])\n",
    "# print(prediction)\n",
    "# unique_vals, counts = np.unique(prediction, return_counts=True)\n",
    "# unique_counts = dict(zip(unique_vals, counts))\n",
    "# print(unique_counts)"
   ]
  },
  {
   "attachments": {},
   "cell_type": "markdown",
   "metadata": {},
   "source": [
    "# Lead Score Prediction"
   ]
  },
  {
   "attachments": {},
   "cell_type": "markdown",
   "metadata": {},
   "source": [
    "The leads labelled with 'WON' or 'LOST' status are already determined \n",
    "\n",
    "We have to predict the likelihood of leads with other statuses being 'WON'"
   ]
  },
  {
   "cell_type": "code",
   "execution_count": 510,
   "metadata": {},
   "outputs": [
    {
     "data": {
      "text/plain": [
       "182     0.09\n",
       "613     0.00\n",
       "820     0.22\n",
       "896     0.00\n",
       "1419    0.05\n",
       "Name: lead_score, dtype: float64"
      ]
     },
     "execution_count": 510,
     "metadata": {},
     "output_type": "execute_result"
    }
   ],
   "source": [
    "df_opportunity = df.loc[opportunity_index,:]\n",
    "df_contacted = df.loc[contacted_index,:]\n",
    "df_processing = df.loc[processing_index,:]\n",
    "df_important = df.loc[important_index,:]\n",
    "\n",
    "df_leadScore = pd.concat([df_opportunity,df_contacted,df_processing,df_important], axis=0)\n",
    "\n",
    "X_opportunity = XX.loc[opportunity_index,:]\n",
    "X_contacted = XX.loc[contacted_index,:]\n",
    "X_processing = XX.loc[processing_index,:]\n",
    "X_important = XX.loc[important_index,:]\n",
    "\n",
    "X_leadScore = pd.concat([X_opportunity,X_contacted,X_processing,X_important], axis=0)\n",
    "\n",
    "prob_won = model.predict_proba(X_leadScore)[0:,1]\n",
    "# X_leadScore['lead_score'] = prob_won\n",
    "# X_leadScore['lead_score'] *= 100\n",
    "# X_leadScore.lead_score.head()\n",
    "df_leadScore['lead_score'] = prob_won\n",
    "# df_leadScore['lead_score'] *= 100\n",
    "df_leadScore.lead_score.head()"
   ]
  },
  {
   "attachments": {},
   "cell_type": "markdown",
   "metadata": {},
   "source": [
    "On the grounds of common sense, the leads marked as 'IMPORTANT' have greater possibility of being as customer than those marked as 'PROCESSING' which in turn have greater possibilty than 'CONTACTED', giving 'OPPURTUNITY' the least possibility\n",
    "\n",
    "So, let's assign a weight of 1,2,4 & 8 to their lead_score"
   ]
  },
  {
   "cell_type": "code",
   "execution_count": 511,
   "metadata": {},
   "outputs": [],
   "source": [
    "\n",
    "for index in contacted_index:\n",
    "    val = df_leadScore.at[index,'lead_score']\n",
    "    df_leadScore.at[index,'lead_score'] = val * 2\n",
    "\n",
    "for index in processing_index:\n",
    "    val = df_leadScore.at[index,'lead_score']\n",
    "    df_leadScore.at[index,'lead_score'] = val * 4\n",
    "\n",
    "for index in important_index:\n",
    "    val = df_leadScore.at[index,'lead_score']\n",
    "    df_leadScore.at[index,'lead_score'] = val * 8"
   ]
  },
  {
   "attachments": {},
   "cell_type": "markdown",
   "metadata": {},
   "source": [
    "Since the range of the values are between 0 & 1 & final lead score has to be between 1 & 100,\n",
    "Let's multiply the lead score by 100"
   ]
  },
  {
   "cell_type": "code",
   "execution_count": 512,
   "metadata": {},
   "outputs": [
    {
     "data": {
      "text/html": [
       "<div>\n",
       "<style scoped>\n",
       "    .dataframe tbody tr th:only-of-type {\n",
       "        vertical-align: middle;\n",
       "    }\n",
       "\n",
       "    .dataframe tbody tr th {\n",
       "        vertical-align: top;\n",
       "    }\n",
       "\n",
       "    .dataframe thead th {\n",
       "        text-align: right;\n",
       "    }\n",
       "</style>\n",
       "<table border=\"1\" class=\"dataframe\">\n",
       "  <thead>\n",
       "    <tr style=\"text-align: right;\">\n",
       "      <th></th>\n",
       "      <th>Agent_id</th>\n",
       "      <th>status</th>\n",
       "      <th>lost_reason</th>\n",
       "      <th>budget</th>\n",
       "      <th>lease</th>\n",
       "      <th>movein</th>\n",
       "      <th>source</th>\n",
       "      <th>source_city</th>\n",
       "      <th>source_country</th>\n",
       "      <th>utm_source</th>\n",
       "      <th>utm_medium</th>\n",
       "      <th>des_city</th>\n",
       "      <th>des_country</th>\n",
       "      <th>room_type</th>\n",
       "      <th>lead_id</th>\n",
       "      <th>lead_score</th>\n",
       "    </tr>\n",
       "  </thead>\n",
       "  <tbody>\n",
       "    <tr>\n",
       "      <th>17445</th>\n",
       "      <td>53eb7f9dcaa22b09db85547fa158a6893089db596bfdcc...</td>\n",
       "      <td>PROCESSING</td>\n",
       "      <td>NaN</td>\n",
       "      <td>100</td>\n",
       "      <td>full-year-stay</td>\n",
       "      <td>01/09/23</td>\n",
       "      <td>dfe8ecc0693503f620f2aa7496c336d1af968dfdcb2143...</td>\n",
       "      <td>8593b9db65212160979d946950601c26622a219c80f1f1...</td>\n",
       "      <td>e09e10e67812e9d236ad900e5d46b4308fc62f5d69446a...</td>\n",
       "      <td>9ac56ef275bb33f0f931abd846e53e845a80af8a549100...</td>\n",
       "      <td>82244417f956ac7c599f191593f7e441a4fafa20a4158f...</td>\n",
       "      <td>8593b9db65212160979d946950601c26622a219c80f1f1...</td>\n",
       "      <td>8d23a6e37e0a6431a8f1b43a91026dcff51170a89a6512...</td>\n",
       "      <td>NaN</td>\n",
       "      <td>0d2a0640b2a2960931b6b826a059109e03e8a549bb00a4...</td>\n",
       "      <td>84.0</td>\n",
       "    </tr>\n",
       "    <tr>\n",
       "      <th>8147</th>\n",
       "      <td>242b2436696fc7a2b305099e519fbadd8c55b46c4ae62d...</td>\n",
       "      <td>PROCESSING</td>\n",
       "      <td>NaN</td>\n",
       "      <td>£121 - £180 Per Week</td>\n",
       "      <td>Complete Education Year Stay 50 - 52 weeks</td>\n",
       "      <td>04/09/22</td>\n",
       "      <td>7aae3e886e89fc1187a5c47d6cea1c22998ee610ade1f2...</td>\n",
       "      <td>18eda641db88b4151b95700d497723ade1139592753082...</td>\n",
       "      <td>84ce677eb0e3ddaa4e1595d71e79e1e40bf0081fd2c82c...</td>\n",
       "      <td>bbdefa2950f49882f295b1285d4fa9dec45fc4144bfb07...</td>\n",
       "      <td>09076eb7665d1fb9389c7c4517fee0b00e43092eb34821...</td>\n",
       "      <td>6a5ed83658ef85afc77709cc16ede854ad98e3c2ad8b07...</td>\n",
       "      <td>8d23a6e37e0a6431a8f1b43a91026dcff51170a89a6512...</td>\n",
       "      <td>Studio</td>\n",
       "      <td>fab08333ba9c0b4498c602cdd2e6b5bd7211e21a072028...</td>\n",
       "      <td>68.0</td>\n",
       "    </tr>\n",
       "    <tr>\n",
       "      <th>2469</th>\n",
       "      <td>b599c03fdf93e1beabd4a03795da989d54879be820d345...</td>\n",
       "      <td>CONTACTED</td>\n",
       "      <td>NaN</td>\n",
       "      <td>£121 - £180 Per Week</td>\n",
       "      <td>Summer/Short Stay 8 - 12 weeks</td>\n",
       "      <td>23/09/23</td>\n",
       "      <td>7aae3e886e89fc1187a5c47d6cea1c22998ee610ade1f2...</td>\n",
       "      <td>54818870165a6374576f54458561a3d1592c45e7d49bd4...</td>\n",
       "      <td>a0d037328a882606142f7defe732e4702ccb041870b9d5...</td>\n",
       "      <td>bbdefa2950f49882f295b1285d4fa9dec45fc4144bfb07...</td>\n",
       "      <td>09076eb7665d1fb9389c7c4517fee0b00e43092eb34821...</td>\n",
       "      <td>c384826dfbfce62c3fd99a46984a56fe71546a85c2cb6c...</td>\n",
       "      <td>8d23a6e37e0a6431a8f1b43a91026dcff51170a89a6512...</td>\n",
       "      <td>Entire Place</td>\n",
       "      <td>dda68b1b954085ed1d2d7d24258c37dfe4ee676c48883a...</td>\n",
       "      <td>66.0</td>\n",
       "    </tr>\n",
       "    <tr>\n",
       "      <th>23000</th>\n",
       "      <td>53eb7f9dcaa22b09db85547fa158a6893089db596bfdcc...</td>\n",
       "      <td>CONTACTED</td>\n",
       "      <td>NaN</td>\n",
       "      <td>£121 - £180 Per Week</td>\n",
       "      <td>Full Year Course Stay 40 - 44 weeks</td>\n",
       "      <td>30/08/23</td>\n",
       "      <td>7aae3e886e89fc1187a5c47d6cea1c22998ee610ade1f2...</td>\n",
       "      <td>0a23e07465d56693db01b4fede642c9c4b1b9ae42a5b08...</td>\n",
       "      <td>e09e10e67812e9d236ad900e5d46b4308fc62f5d69446a...</td>\n",
       "      <td>bbdefa2950f49882f295b1285d4fa9dec45fc4144bfb07...</td>\n",
       "      <td>09076eb7665d1fb9389c7c4517fee0b00e43092eb34821...</td>\n",
       "      <td>bf5ade33b5b472c3599473a5cb4e5c7037e4c73296b7e9...</td>\n",
       "      <td>8d23a6e37e0a6431a8f1b43a91026dcff51170a89a6512...</td>\n",
       "      <td>Studio</td>\n",
       "      <td>d123c293ab6fb5df0fc6f6a5f4a48eba55b630c6609e68...</td>\n",
       "      <td>64.0</td>\n",
       "    </tr>\n",
       "    <tr>\n",
       "      <th>17490</th>\n",
       "      <td>299ae77a4ef350ae0dd37d6bba1c002d03444fb1edb236...</td>\n",
       "      <td>OPPORTUNITY</td>\n",
       "      <td>NaN</td>\n",
       "      <td>109</td>\n",
       "      <td>48</td>\n",
       "      <td>NaN</td>\n",
       "      <td>9ba9134a91cfc6b52ac8d480e9ad37896ca4ac216e2d79...</td>\n",
       "      <td>5c7dfd7a7d9d77efb358a37e81a7b07814a07e95902e29...</td>\n",
       "      <td>e28406d05650a1fab7eb01a80ef73a2e3460a214fe4860...</td>\n",
       "      <td>d15690f08a575024650b01ffac892cfd2b93e6c57c140f...</td>\n",
       "      <td>9b2d5b4678781e53038e91ea5324530a03f27dc1d0e5f6...</td>\n",
       "      <td>acb208d3ac02ab6d5a45120b4187f12bc41a132011fe1c...</td>\n",
       "      <td>8d23a6e37e0a6431a8f1b43a91026dcff51170a89a6512...</td>\n",
       "      <td>NaN</td>\n",
       "      <td>792c8616e67200912e4207d55dd8e41e296b30c1ff2566...</td>\n",
       "      <td>57.0</td>\n",
       "    </tr>\n",
       "  </tbody>\n",
       "</table>\n",
       "</div>"
      ],
      "text/plain": [
       "                                                Agent_id       status  \\\n",
       "17445  53eb7f9dcaa22b09db85547fa158a6893089db596bfdcc...   PROCESSING   \n",
       "8147   242b2436696fc7a2b305099e519fbadd8c55b46c4ae62d...   PROCESSING   \n",
       "2469   b599c03fdf93e1beabd4a03795da989d54879be820d345...    CONTACTED   \n",
       "23000  53eb7f9dcaa22b09db85547fa158a6893089db596bfdcc...    CONTACTED   \n",
       "17490  299ae77a4ef350ae0dd37d6bba1c002d03444fb1edb236...  OPPORTUNITY   \n",
       "\n",
       "      lost_reason                budget  \\\n",
       "17445         NaN                   100   \n",
       "8147          NaN  £121 - £180 Per Week   \n",
       "2469          NaN  £121 - £180 Per Week   \n",
       "23000         NaN  £121 - £180 Per Week   \n",
       "17490         NaN                   109   \n",
       "\n",
       "                                            lease    movein  \\\n",
       "17445                              full-year-stay  01/09/23   \n",
       "8147   Complete Education Year Stay 50 - 52 weeks  04/09/22   \n",
       "2469               Summer/Short Stay 8 - 12 weeks  23/09/23   \n",
       "23000         Full Year Course Stay 40 - 44 weeks  30/08/23   \n",
       "17490                                          48       NaN   \n",
       "\n",
       "                                                  source  \\\n",
       "17445  dfe8ecc0693503f620f2aa7496c336d1af968dfdcb2143...   \n",
       "8147   7aae3e886e89fc1187a5c47d6cea1c22998ee610ade1f2...   \n",
       "2469   7aae3e886e89fc1187a5c47d6cea1c22998ee610ade1f2...   \n",
       "23000  7aae3e886e89fc1187a5c47d6cea1c22998ee610ade1f2...   \n",
       "17490  9ba9134a91cfc6b52ac8d480e9ad37896ca4ac216e2d79...   \n",
       "\n",
       "                                             source_city  \\\n",
       "17445  8593b9db65212160979d946950601c26622a219c80f1f1...   \n",
       "8147   18eda641db88b4151b95700d497723ade1139592753082...   \n",
       "2469   54818870165a6374576f54458561a3d1592c45e7d49bd4...   \n",
       "23000  0a23e07465d56693db01b4fede642c9c4b1b9ae42a5b08...   \n",
       "17490  5c7dfd7a7d9d77efb358a37e81a7b07814a07e95902e29...   \n",
       "\n",
       "                                          source_country  \\\n",
       "17445  e09e10e67812e9d236ad900e5d46b4308fc62f5d69446a...   \n",
       "8147   84ce677eb0e3ddaa4e1595d71e79e1e40bf0081fd2c82c...   \n",
       "2469   a0d037328a882606142f7defe732e4702ccb041870b9d5...   \n",
       "23000  e09e10e67812e9d236ad900e5d46b4308fc62f5d69446a...   \n",
       "17490  e28406d05650a1fab7eb01a80ef73a2e3460a214fe4860...   \n",
       "\n",
       "                                              utm_source  \\\n",
       "17445  9ac56ef275bb33f0f931abd846e53e845a80af8a549100...   \n",
       "8147   bbdefa2950f49882f295b1285d4fa9dec45fc4144bfb07...   \n",
       "2469   bbdefa2950f49882f295b1285d4fa9dec45fc4144bfb07...   \n",
       "23000  bbdefa2950f49882f295b1285d4fa9dec45fc4144bfb07...   \n",
       "17490  d15690f08a575024650b01ffac892cfd2b93e6c57c140f...   \n",
       "\n",
       "                                              utm_medium  \\\n",
       "17445  82244417f956ac7c599f191593f7e441a4fafa20a4158f...   \n",
       "8147   09076eb7665d1fb9389c7c4517fee0b00e43092eb34821...   \n",
       "2469   09076eb7665d1fb9389c7c4517fee0b00e43092eb34821...   \n",
       "23000  09076eb7665d1fb9389c7c4517fee0b00e43092eb34821...   \n",
       "17490  9b2d5b4678781e53038e91ea5324530a03f27dc1d0e5f6...   \n",
       "\n",
       "                                                des_city  \\\n",
       "17445  8593b9db65212160979d946950601c26622a219c80f1f1...   \n",
       "8147   6a5ed83658ef85afc77709cc16ede854ad98e3c2ad8b07...   \n",
       "2469   c384826dfbfce62c3fd99a46984a56fe71546a85c2cb6c...   \n",
       "23000  bf5ade33b5b472c3599473a5cb4e5c7037e4c73296b7e9...   \n",
       "17490  acb208d3ac02ab6d5a45120b4187f12bc41a132011fe1c...   \n",
       "\n",
       "                                             des_country     room_type  \\\n",
       "17445  8d23a6e37e0a6431a8f1b43a91026dcff51170a89a6512...           NaN   \n",
       "8147   8d23a6e37e0a6431a8f1b43a91026dcff51170a89a6512...        Studio   \n",
       "2469   8d23a6e37e0a6431a8f1b43a91026dcff51170a89a6512...  Entire Place   \n",
       "23000  8d23a6e37e0a6431a8f1b43a91026dcff51170a89a6512...        Studio   \n",
       "17490  8d23a6e37e0a6431a8f1b43a91026dcff51170a89a6512...           NaN   \n",
       "\n",
       "                                                 lead_id  lead_score  \n",
       "17445  0d2a0640b2a2960931b6b826a059109e03e8a549bb00a4...        84.0  \n",
       "8147   fab08333ba9c0b4498c602cdd2e6b5bd7211e21a072028...        68.0  \n",
       "2469   dda68b1b954085ed1d2d7d24258c37dfe4ee676c48883a...        66.0  \n",
       "23000  d123c293ab6fb5df0fc6f6a5f4a48eba55b630c6609e68...        64.0  \n",
       "17490  792c8616e67200912e4207d55dd8e41e296b30c1ff2566...        57.0  "
      ]
     },
     "execution_count": 512,
     "metadata": {},
     "output_type": "execute_result"
    }
   ],
   "source": [
    "for index in df_leadScore.index:\n",
    "    val = df_leadScore.at[index,'lead_score']\n",
    "    df_leadScore.at[index,'lead_score'] = val * 100\n",
    "\n",
    "df_leadScore.sort_values(by=['lead_score'], ascending=False).head()\n",
    "# df_leadScore.head(10)"
   ]
  },
  {
   "attachments": {},
   "cell_type": "markdown",
   "metadata": {},
   "source": [
    "The leads with the best chances of being customer(i.e, getting status of 'WON') is...."
   ]
  },
  {
   "cell_type": "code",
   "execution_count": 513,
   "metadata": {},
   "outputs": [
    {
     "name": "stdout",
     "output_type": "stream",
     "text": [
      "Their ID's are: \n"
     ]
    },
    {
     "data": {
      "text/plain": [
       "17445    0d2a0640b2a2960931b6b826a059109e03e8a549bb00a4...\n",
       "8147     fab08333ba9c0b4498c602cdd2e6b5bd7211e21a072028...\n",
       "2469     dda68b1b954085ed1d2d7d24258c37dfe4ee676c48883a...\n",
       "23000    d123c293ab6fb5df0fc6f6a5f4a48eba55b630c6609e68...\n",
       "17490    792c8616e67200912e4207d55dd8e41e296b30c1ff2566...\n",
       "17112    0a5d1ec350ddbdab78eddee96151b9a32ba2d9224686e0...\n",
       "38892    d346ce1e537629f2d1cad0e3c17ac852ae8fe941a4d5c7...\n",
       "17797    5ee88084970ff6197a9db941986099787e645d68c24319...\n",
       "24633    f6c6ee4efeacf946075aa29742cf815a27d5b6b9ad7261...\n",
       "3245     143e01993cfd125e4ad006fb6c49750c51dcbfcef6a2e0...\n",
       "Name: lead_id, dtype: object"
      ]
     },
     "execution_count": 513,
     "metadata": {},
     "output_type": "execute_result"
    }
   ],
   "source": [
    "print(\"Their ID's are: \")\n",
    "df_leadScore.sort_values(by=['lead_score'], ascending=False).lead_id.head(10)"
   ]
  }
 ],
 "metadata": {
  "kernelspec": {
   "display_name": "Python 3",
   "language": "python",
   "name": "python3"
  },
  "language_info": {
   "codemirror_mode": {
    "name": "ipython",
    "version": 3
   },
   "file_extension": ".py",
   "mimetype": "text/x-python",
   "name": "python",
   "nbconvert_exporter": "python",
   "pygments_lexer": "ipython3",
   "version": "3.10.9"
  },
  "orig_nbformat": 4,
  "vscode": {
   "interpreter": {
    "hash": "e7370f93d1d0cde622a1f8e1c04877d8463912d04d973331ad4851f04de6915a"
   }
  }
 },
 "nbformat": 4,
 "nbformat_minor": 2
}
