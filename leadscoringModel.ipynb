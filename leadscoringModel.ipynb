{
 "cells": [
  {
   "cell_type": "code",
   "execution_count": 81,
   "metadata": {},
   "outputs": [],
   "source": [
    "import pandas as pd"
   ]
  },
  {
   "cell_type": "code",
   "execution_count": 82,
   "metadata": {},
   "outputs": [
    {
     "name": "stdout",
     "output_type": "stream",
     "text": [
      "(46608, 15)\n"
     ]
    },
    {
     "data": {
      "text/html": [
       "<div>\n",
       "<style scoped>\n",
       "    .dataframe tbody tr th:only-of-type {\n",
       "        vertical-align: middle;\n",
       "    }\n",
       "\n",
       "    .dataframe tbody tr th {\n",
       "        vertical-align: top;\n",
       "    }\n",
       "\n",
       "    .dataframe thead th {\n",
       "        text-align: right;\n",
       "    }\n",
       "</style>\n",
       "<table border=\"1\" class=\"dataframe\">\n",
       "  <thead>\n",
       "    <tr style=\"text-align: right;\">\n",
       "      <th></th>\n",
       "      <th>Agent_id</th>\n",
       "      <th>status</th>\n",
       "      <th>lost_reason</th>\n",
       "      <th>budget</th>\n",
       "      <th>lease</th>\n",
       "      <th>movein</th>\n",
       "      <th>source</th>\n",
       "      <th>source_city</th>\n",
       "      <th>source_country</th>\n",
       "      <th>utm_source</th>\n",
       "      <th>utm_medium</th>\n",
       "      <th>des_city</th>\n",
       "      <th>des_country</th>\n",
       "      <th>room_type</th>\n",
       "      <th>lead_id</th>\n",
       "    </tr>\n",
       "  </thead>\n",
       "  <tbody>\n",
       "    <tr>\n",
       "      <th>0</th>\n",
       "      <td>1deba9e96f404694373de9749ddd1ca8aa7bb823145a6f...</td>\n",
       "      <td>LOST</td>\n",
       "      <td>Not responding</td>\n",
       "      <td>NaN</td>\n",
       "      <td>NaN</td>\n",
       "      <td>NaN</td>\n",
       "      <td>9b2d5b4678781e53038e91ea5324530a03f27dc1d0e5f6...</td>\n",
       "      <td>9b2d5b4678781e53038e91ea5324530a03f27dc1d0e5f6...</td>\n",
       "      <td>9b2d5b4678781e53038e91ea5324530a03f27dc1d0e5f6...</td>\n",
       "      <td>3d59f7548e1af2151b64135003ce63c0a484c26b9b8b16...</td>\n",
       "      <td>268ad70eb5bc4737a2ae28162cbca30118cc94520e49ef...</td>\n",
       "      <td>ecc0e7dc084f141b29479058967d0bc07dee25d9690a98...</td>\n",
       "      <td>8d23a6e37e0a6431a8f1b43a91026dcff51170a89a6512...</td>\n",
       "      <td>NaN</td>\n",
       "      <td>cd5dc0d9393f3980d11d4ba6f88f8110c2b7a7f7796307...</td>\n",
       "    </tr>\n",
       "    <tr>\n",
       "      <th>1</th>\n",
       "      <td>299ae77a4ef350ae0dd37d6bba1c002d03444fb1edb236...</td>\n",
       "      <td>LOST</td>\n",
       "      <td>Low budget</td>\n",
       "      <td>NaN</td>\n",
       "      <td>NaN</td>\n",
       "      <td>NaN</td>\n",
       "      <td>9b2d5b4678781e53038e91ea5324530a03f27dc1d0e5f6...</td>\n",
       "      <td>9b2d5b4678781e53038e91ea5324530a03f27dc1d0e5f6...</td>\n",
       "      <td>9b2d5b4678781e53038e91ea5324530a03f27dc1d0e5f6...</td>\n",
       "      <td>3d59f7548e1af2151b64135003ce63c0a484c26b9b8b16...</td>\n",
       "      <td>268ad70eb5bc4737a2ae28162cbca30118cc94520e49ef...</td>\n",
       "      <td>5372372f3bf5896820cb2819300c3e681820d82c6efc54...</td>\n",
       "      <td>8d23a6e37e0a6431a8f1b43a91026dcff51170a89a6512...</td>\n",
       "      <td>NaN</td>\n",
       "      <td>b94693673a5f7178d1b114e4004ad52377d3244dd24a3d...</td>\n",
       "    </tr>\n",
       "    <tr>\n",
       "      <th>2</th>\n",
       "      <td>c213697430c006013012dd2aca82dd9732aa0a1a6bca13...</td>\n",
       "      <td>LOST</td>\n",
       "      <td>Not responding</td>\n",
       "      <td>£121 - £180 Per Week</td>\n",
       "      <td>Full Year Course Stay 40 - 44 weeks</td>\n",
       "      <td>31/08/22</td>\n",
       "      <td>7aae3e886e89fc1187a5c47d6cea1c22998ee610ade1f2...</td>\n",
       "      <td>9b8cc3c63cdf447e463c11544924bf027945cbd29675f7...</td>\n",
       "      <td>e09e10e67812e9d236ad900e5d46b4308fc62f5d69446a...</td>\n",
       "      <td>bbdefa2950f49882f295b1285d4fa9dec45fc4144bfb07...</td>\n",
       "      <td>09076eb7665d1fb9389c7c4517fee0b00e43092eb34821...</td>\n",
       "      <td>11ab03a1a8c367191355c152f39fe28cae5e426fce49ef...</td>\n",
       "      <td>8d23a6e37e0a6431a8f1b43a91026dcff51170a89a6512...</td>\n",
       "      <td>Ensuite</td>\n",
       "      <td>96ea4e2bf04496c044745938c0299c264c3f4ba079e572...</td>\n",
       "    </tr>\n",
       "    <tr>\n",
       "      <th>3</th>\n",
       "      <td>eac9815a500f908736d303e23aa227f0957177b0e6756b...</td>\n",
       "      <td>LOST</td>\n",
       "      <td>Low budget</td>\n",
       "      <td>0-0</td>\n",
       "      <td>0</td>\n",
       "      <td>NaN</td>\n",
       "      <td>ba2d0a29556ac20f86f45e4543c0825428cba33fd7a9ea...</td>\n",
       "      <td>a5f0d2d08eb0592087e3a3a2f9c1ba2c67cc30f2efd2bd...</td>\n",
       "      <td>e09e10e67812e9d236ad900e5d46b4308fc62f5d69446a...</td>\n",
       "      <td>bbdefa2950f49882f295b1285d4fa9dec45fc4144bfb07...</td>\n",
       "      <td>09076eb7665d1fb9389c7c4517fee0b00e43092eb34821...</td>\n",
       "      <td>19372fa44c57a01c37a5a8418779ca3d99b0b59731fb35...</td>\n",
       "      <td>8d23a6e37e0a6431a8f1b43a91026dcff51170a89a6512...</td>\n",
       "      <td>NaN</td>\n",
       "      <td>1d2b34d8add02a182a4129023766ca4585a8ddced0e5b3...</td>\n",
       "    </tr>\n",
       "    <tr>\n",
       "      <th>4</th>\n",
       "      <td>1deba9e96f404694373de9749ddd1ca8aa7bb823145a6f...</td>\n",
       "      <td>LOST</td>\n",
       "      <td>Junk lead</td>\n",
       "      <td>NaN</td>\n",
       "      <td>NaN</td>\n",
       "      <td>NaN</td>\n",
       "      <td>9b2d5b4678781e53038e91ea5324530a03f27dc1d0e5f6...</td>\n",
       "      <td>9b2d5b4678781e53038e91ea5324530a03f27dc1d0e5f6...</td>\n",
       "      <td>9b2d5b4678781e53038e91ea5324530a03f27dc1d0e5f6...</td>\n",
       "      <td>3d59f7548e1af2151b64135003ce63c0a484c26b9b8b16...</td>\n",
       "      <td>268ad70eb5bc4737a2ae28162cbca30118cc94520e49ef...</td>\n",
       "      <td>9b2d5b4678781e53038e91ea5324530a03f27dc1d0e5f6...</td>\n",
       "      <td>9b2d5b4678781e53038e91ea5324530a03f27dc1d0e5f6...</td>\n",
       "      <td>NaN</td>\n",
       "      <td>fc10fffd29cfbe93c55158fb47752a7501c211d253468c...</td>\n",
       "    </tr>\n",
       "  </tbody>\n",
       "</table>\n",
       "</div>"
      ],
      "text/plain": [
       "                                            Agent_id status     lost_reason  \\\n",
       "0  1deba9e96f404694373de9749ddd1ca8aa7bb823145a6f...   LOST  Not responding   \n",
       "1  299ae77a4ef350ae0dd37d6bba1c002d03444fb1edb236...   LOST      Low budget   \n",
       "2  c213697430c006013012dd2aca82dd9732aa0a1a6bca13...   LOST  Not responding   \n",
       "3  eac9815a500f908736d303e23aa227f0957177b0e6756b...   LOST      Low budget   \n",
       "4  1deba9e96f404694373de9749ddd1ca8aa7bb823145a6f...   LOST       Junk lead   \n",
       "\n",
       "                 budget                                lease    movein  \\\n",
       "0                   NaN                                  NaN       NaN   \n",
       "1                   NaN                                  NaN       NaN   \n",
       "2  £121 - £180 Per Week  Full Year Course Stay 40 - 44 weeks  31/08/22   \n",
       "3                   0-0                                    0       NaN   \n",
       "4                   NaN                                  NaN       NaN   \n",
       "\n",
       "                                              source  \\\n",
       "0  9b2d5b4678781e53038e91ea5324530a03f27dc1d0e5f6...   \n",
       "1  9b2d5b4678781e53038e91ea5324530a03f27dc1d0e5f6...   \n",
       "2  7aae3e886e89fc1187a5c47d6cea1c22998ee610ade1f2...   \n",
       "3  ba2d0a29556ac20f86f45e4543c0825428cba33fd7a9ea...   \n",
       "4  9b2d5b4678781e53038e91ea5324530a03f27dc1d0e5f6...   \n",
       "\n",
       "                                         source_city  \\\n",
       "0  9b2d5b4678781e53038e91ea5324530a03f27dc1d0e5f6...   \n",
       "1  9b2d5b4678781e53038e91ea5324530a03f27dc1d0e5f6...   \n",
       "2  9b8cc3c63cdf447e463c11544924bf027945cbd29675f7...   \n",
       "3  a5f0d2d08eb0592087e3a3a2f9c1ba2c67cc30f2efd2bd...   \n",
       "4  9b2d5b4678781e53038e91ea5324530a03f27dc1d0e5f6...   \n",
       "\n",
       "                                      source_country  \\\n",
       "0  9b2d5b4678781e53038e91ea5324530a03f27dc1d0e5f6...   \n",
       "1  9b2d5b4678781e53038e91ea5324530a03f27dc1d0e5f6...   \n",
       "2  e09e10e67812e9d236ad900e5d46b4308fc62f5d69446a...   \n",
       "3  e09e10e67812e9d236ad900e5d46b4308fc62f5d69446a...   \n",
       "4  9b2d5b4678781e53038e91ea5324530a03f27dc1d0e5f6...   \n",
       "\n",
       "                                          utm_source  \\\n",
       "0  3d59f7548e1af2151b64135003ce63c0a484c26b9b8b16...   \n",
       "1  3d59f7548e1af2151b64135003ce63c0a484c26b9b8b16...   \n",
       "2  bbdefa2950f49882f295b1285d4fa9dec45fc4144bfb07...   \n",
       "3  bbdefa2950f49882f295b1285d4fa9dec45fc4144bfb07...   \n",
       "4  3d59f7548e1af2151b64135003ce63c0a484c26b9b8b16...   \n",
       "\n",
       "                                          utm_medium  \\\n",
       "0  268ad70eb5bc4737a2ae28162cbca30118cc94520e49ef...   \n",
       "1  268ad70eb5bc4737a2ae28162cbca30118cc94520e49ef...   \n",
       "2  09076eb7665d1fb9389c7c4517fee0b00e43092eb34821...   \n",
       "3  09076eb7665d1fb9389c7c4517fee0b00e43092eb34821...   \n",
       "4  268ad70eb5bc4737a2ae28162cbca30118cc94520e49ef...   \n",
       "\n",
       "                                            des_city  \\\n",
       "0  ecc0e7dc084f141b29479058967d0bc07dee25d9690a98...   \n",
       "1  5372372f3bf5896820cb2819300c3e681820d82c6efc54...   \n",
       "2  11ab03a1a8c367191355c152f39fe28cae5e426fce49ef...   \n",
       "3  19372fa44c57a01c37a5a8418779ca3d99b0b59731fb35...   \n",
       "4  9b2d5b4678781e53038e91ea5324530a03f27dc1d0e5f6...   \n",
       "\n",
       "                                         des_country room_type  \\\n",
       "0  8d23a6e37e0a6431a8f1b43a91026dcff51170a89a6512...       NaN   \n",
       "1  8d23a6e37e0a6431a8f1b43a91026dcff51170a89a6512...       NaN   \n",
       "2  8d23a6e37e0a6431a8f1b43a91026dcff51170a89a6512...   Ensuite   \n",
       "3  8d23a6e37e0a6431a8f1b43a91026dcff51170a89a6512...       NaN   \n",
       "4  9b2d5b4678781e53038e91ea5324530a03f27dc1d0e5f6...       NaN   \n",
       "\n",
       "                                             lead_id  \n",
       "0  cd5dc0d9393f3980d11d4ba6f88f8110c2b7a7f7796307...  \n",
       "1  b94693673a5f7178d1b114e4004ad52377d3244dd24a3d...  \n",
       "2  96ea4e2bf04496c044745938c0299c264c3f4ba079e572...  \n",
       "3  1d2b34d8add02a182a4129023766ca4585a8ddced0e5b3...  \n",
       "4  fc10fffd29cfbe93c55158fb47752a7501c211d253468c...  "
      ]
     },
     "execution_count": 82,
     "metadata": {},
     "output_type": "execute_result"
    }
   ],
   "source": [
    "df = pd.read_csv('./resources/Data_Science_Internship - Dump.csv')\n",
    "df = df.drop(columns=['Unnamed: 0'])\n",
    "# df = df.set_index('Agent_id')\n",
    "print(df.shape)\n",
    "# print(len(df.lead_id.unique()))\n",
    "df.head()"
   ]
  },
  {
   "cell_type": "code",
   "execution_count": 83,
   "metadata": {},
   "outputs": [
    {
     "name": "stdout",
     "output_type": "stream",
     "text": [
      "(46608, 15)\n",
      "120\n",
      "6\n",
      "31\n",
      "1858\n",
      "312\n",
      "478\n",
      "683\n",
      "4336\n",
      "186\n",
      "35\n",
      "64\n",
      "220\n",
      "15\n",
      "6\n",
      "30574\n"
     ]
    }
   ],
   "source": [
    "print(df.shape)\n",
    "# print(len(df.lost_reason.unique()))\n",
    "for col in df.columns:\n",
    "    print(len(df[f'{col}'].unique()))"
   ]
  },
  {
   "cell_type": "code",
   "execution_count": 84,
   "metadata": {},
   "outputs": [
    {
     "data": {
      "text/plain": [
       "Index(['Agent_id', 'status', 'lost_reason', 'budget', 'lease', 'movein',\n",
       "       'source', 'source_city', 'source_country', 'utm_source', 'utm_medium',\n",
       "       'des_city', 'des_country', 'room_type', 'lead_id'],\n",
       "      dtype='object')"
      ]
     },
     "execution_count": 84,
     "metadata": {},
     "output_type": "execute_result"
    }
   ],
   "source": [
    "df.columns"
   ]
  },
  {
   "cell_type": "code",
   "execution_count": 85,
   "metadata": {},
   "outputs": [
    {
     "name": "stdout",
     "output_type": "stream",
     "text": [
      "['lost_reason', 'budget', 'lease', 'movein', 'room_type']\n"
     ]
    }
   ],
   "source": [
    "NaN_cols = [col for col in df.columns if df[f'{col}'].isnull().any()]\n",
    "print(NaN_cols)"
   ]
  },
  {
   "cell_type": "code",
   "execution_count": 113,
   "metadata": {},
   "outputs": [
    {
     "name": "stdout",
     "output_type": "stream",
     "text": [
      "['LOST' 'WON' 'OPPORTUNITY' 'CONTACTED' 'PROCESSING' 'IMPORTANT']\n",
      "    status\n",
      "98     WON\n",
      "111    WON\n",
      "139    WON\n",
      "141    WON\n",
      "152    WON\n"
     ]
    },
    {
     "data": {
      "text/html": [
       "<div>\n",
       "<style scoped>\n",
       "    .dataframe tbody tr th:only-of-type {\n",
       "        vertical-align: middle;\n",
       "    }\n",
       "\n",
       "    .dataframe tbody tr th {\n",
       "        vertical-align: top;\n",
       "    }\n",
       "\n",
       "    .dataframe thead th {\n",
       "        text-align: right;\n",
       "    }\n",
       "</style>\n",
       "<table border=\"1\" class=\"dataframe\">\n",
       "  <thead>\n",
       "    <tr style=\"text-align: right;\">\n",
       "      <th></th>\n",
       "      <th>status</th>\n",
       "    </tr>\n",
       "  </thead>\n",
       "  <tbody>\n",
       "    <tr>\n",
       "      <th>0</th>\n",
       "      <td>LOST</td>\n",
       "    </tr>\n",
       "    <tr>\n",
       "      <th>1</th>\n",
       "      <td>LOST</td>\n",
       "    </tr>\n",
       "    <tr>\n",
       "      <th>2</th>\n",
       "      <td>LOST</td>\n",
       "    </tr>\n",
       "    <tr>\n",
       "      <th>3</th>\n",
       "      <td>LOST</td>\n",
       "    </tr>\n",
       "    <tr>\n",
       "      <th>4</th>\n",
       "      <td>LOST</td>\n",
       "    </tr>\n",
       "  </tbody>\n",
       "</table>\n",
       "</div>"
      ],
      "text/plain": [
       "  status\n",
       "0   LOST\n",
       "1   LOST\n",
       "2   LOST\n",
       "3   LOST\n",
       "4   LOST"
      ]
     },
     "execution_count": 113,
     "metadata": {},
     "output_type": "execute_result"
    }
   ],
   "source": [
    "X = df.copy()\n",
    "X = X.drop(columns=NaN_cols)\n",
    "y = pd.DataFrame(X.pop('status'),columns=['status'])\n",
    "print(y.status.unique())\n",
    "print(y[y.status == 'WON'].head())\n",
    "y.head()"
   ]
  },
  {
   "cell_type": "code",
   "execution_count": 114,
   "metadata": {},
   "outputs": [
    {
     "name": "stdout",
     "output_type": "stream",
     "text": [
      "[2. 5. 3. 0. 4. 1.]\n"
     ]
    },
    {
     "data": {
      "text/html": [
       "<div>\n",
       "<style scoped>\n",
       "    .dataframe tbody tr th:only-of-type {\n",
       "        vertical-align: middle;\n",
       "    }\n",
       "\n",
       "    .dataframe tbody tr th {\n",
       "        vertical-align: top;\n",
       "    }\n",
       "\n",
       "    .dataframe thead th {\n",
       "        text-align: right;\n",
       "    }\n",
       "</style>\n",
       "<table border=\"1\" class=\"dataframe\">\n",
       "  <thead>\n",
       "    <tr style=\"text-align: right;\">\n",
       "      <th></th>\n",
       "      <th>status</th>\n",
       "    </tr>\n",
       "  </thead>\n",
       "  <tbody>\n",
       "    <tr>\n",
       "      <th>0</th>\n",
       "      <td>2.0</td>\n",
       "    </tr>\n",
       "    <tr>\n",
       "      <th>1</th>\n",
       "      <td>2.0</td>\n",
       "    </tr>\n",
       "    <tr>\n",
       "      <th>2</th>\n",
       "      <td>2.0</td>\n",
       "    </tr>\n",
       "    <tr>\n",
       "      <th>3</th>\n",
       "      <td>2.0</td>\n",
       "    </tr>\n",
       "    <tr>\n",
       "      <th>4</th>\n",
       "      <td>2.0</td>\n",
       "    </tr>\n",
       "  </tbody>\n",
       "</table>\n",
       "</div>"
      ],
      "text/plain": [
       "   status\n",
       "0     2.0\n",
       "1     2.0\n",
       "2     2.0\n",
       "3     2.0\n",
       "4     2.0"
      ]
     },
     "execution_count": 114,
     "metadata": {},
     "output_type": "execute_result"
    }
   ],
   "source": [
    "from sklearn.preprocessing import OrdinalEncoder\n",
    "\n",
    "ordinal_encoder = OrdinalEncoder()\n",
    "y = pd.DataFrame(ordinal_encoder.fit_transform(y), columns=['status'])\n",
    "print(y.status.unique())\n",
    "# print(y.loc[98:].head())\n",
    "y.head()"
   ]
  },
  {
   "cell_type": "code",
   "execution_count": 87,
   "metadata": {},
   "outputs": [],
   "source": [
    "from sklearn.model_selection import train_test_split\n",
    "x_train, x_test, y_train, y_test = train_test_split(X, y, test_size=0.2, random_state=1)"
   ]
  }
 ],
 "metadata": {
  "kernelspec": {
   "display_name": "Python 3",
   "language": "python",
   "name": "python3"
  },
  "language_info": {
   "codemirror_mode": {
    "name": "ipython",
    "version": 3
   },
   "file_extension": ".py",
   "mimetype": "text/x-python",
   "name": "python",
   "nbconvert_exporter": "python",
   "pygments_lexer": "ipython3",
   "version": "3.10.9"
  },
  "orig_nbformat": 4,
  "vscode": {
   "interpreter": {
    "hash": "e7370f93d1d0cde622a1f8e1c04877d8463912d04d973331ad4851f04de6915a"
   }
  }
 },
 "nbformat": 4,
 "nbformat_minor": 2
}
